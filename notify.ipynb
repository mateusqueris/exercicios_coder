{
 "cells": [
  {
   "cell_type": "code",
   "execution_count": 29,
   "metadata": {},
   "outputs": [],
   "source": [
    "#exemplo\n",
    "from plyer import notification\n",
    "notification.notify(\n",
    "    title= 'Título da notificação',\n",
    "    message= 'Mensagem de Notificação',\n",
    "    app_name= 'nome aplicativo',\n",
    "    timeout=10)"
   ]
  },
  {
   "cell_type": "code",
   "execution_count": 24,
   "metadata": {},
   "outputs": [],
   "source": [
    "#com chamada de funçao \n",
    "##\n",
    "from plyer import notification\n",
    "from datetime import datetime \n",
    "\n",
    "horario_atual = datetime.now().strftime(\"%d/%m/%Y %H:%M:%S\")\n",
    "\n",
    "def alerta(titulo, nivel, base, etapa):\n",
    "    notification.notify(\n",
    "        title=f\"Atenção: {titulo} Nivel {nivel}\",\n",
    "        message=f\"Falha no carregamento da base {base} na etapa {etapa} \\nHora: {horario_atual}\",\n",
    "    )\n",
    "\n",
    "# Exemplo de chamada da função\n",
    "alerta(titulo='Alerta Baixo', nivel=1, base=\"clientes\", etapa=\"EXTRAÇÃO\")\n",
    "alerta(titulo='Alerta Médio', nivel=2, base=\"clientes\", etapa=\"EXTRAÇÃO\")\n",
    "alerta(titulo='Alerta Alto', nivel=3, base=\"clientes\", etapa=\"EXTRAÇÃO\")\n"
   ]
  },
  {
   "cell_type": "code",
   "execution_count": 28,
   "metadata": {},
   "outputs": [],
   "source": [
    "#por if \n",
    "\n",
    "from plyer import notification\n",
    "from datetime import datetime \n",
    "\n",
    "horario_atual = datetime.now().strftime(\"%d/%m/%Y %H:%M:%S\")\n",
    "\n",
    "def alerta(titulo, nivel, base, etapa):\n",
    "    notification.notify(\n",
    "        title=f\"Atenção: {titulo} Nível {nivel}\",\n",
    "        message=f\"Falha no carregamento da base {base} na etapa {etapa} \\nHora: {horario_atual}\",\n",
    "    )\n",
    "#nivel_alerta = 2  # Define o nível de alerta desejado\n",
    "#input pra selecionar o nivel de alerta\n",
    "nivel_alerta = int(input(\"digite um numero de 1 a 3\"))\n",
    "\n",
    "\n",
    "if nivel_alerta == 1: \n",
    "    alerta(titulo='Alerta Baixo', nivel=nivel_alerta, base=\"clientes\", etapa=\"EXTRAÇÃO\")\n",
    "elif nivel_alerta == 2:\n",
    "    alerta(titulo='Alerta Medio', nivel=nivel_alerta, base=\"clientes\", etapa=\"EXTRAÇÃO\")\n",
    "elif nivel_alerta == 3: \n",
    "    alerta(titulo='Alerta Alto', nivel=nivel_alerta, base=\"clientes\", etapa=\"EXTRAÇÃO\")\n",
    "else:\n",
    "    print(\"digite um nr de 1 a 3\")\n"
   ]
  },
  {
   "cell_type": "markdown",
   "metadata": {},
   "source": []
  }
 ],
 "metadata": {
  "kernelspec": {
   "display_name": "Python 3",
   "language": "python",
   "name": "python3"
  },
  "language_info": {
   "codemirror_mode": {
    "name": "ipython",
    "version": 3
   },
   "file_extension": ".py",
   "mimetype": "text/x-python",
   "name": "python",
   "nbconvert_exporter": "python",
   "pygments_lexer": "ipython3",
   "version": "3.12.1"
  },
  "orig_nbformat": 4
 },
 "nbformat": 4,
 "nbformat_minor": 2
}
